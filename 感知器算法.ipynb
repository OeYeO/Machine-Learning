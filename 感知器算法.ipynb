{
 "cells": [
  {
   "cell_type": "markdown",
   "id": "892bc633",
   "metadata": {},
   "source": [
    "感知器是一个二分类器"
   ]
  },
  {
   "cell_type": "code",
   "execution_count": 22,
   "id": "3d1c8b6c",
   "metadata": {},
   "outputs": [],
   "source": [
    "import numpy as np\n",
    "import pandas as pd\n",
    "import matplotlib as mpl\n",
    "import matplotlib.pyplot as plt\n",
    "\n",
    "mpl.rcParams[\"font.family\"] = \"SimHei\"\n",
    "mpl.rcParams[\"axes.unicode_minus\"] = False"
   ]
  },
  {
   "cell_type": "code",
   "execution_count": 8,
   "id": "d7146d96",
   "metadata": {},
   "outputs": [
    {
     "data": {
      "text/plain": [
       "99"
      ]
     },
     "execution_count": 8,
     "metadata": {},
     "output_type": "execute_result"
    }
   ],
   "source": [
    "data = pd.read_csv(r\"iris.csv\")\n",
    "data.drop(\"Unnamed: 0\", axis=1, inplace=True)\n",
    "data.drop_duplicates(inplace=True)\n",
    "# 映射为-1，1而不是0，1，2 是因为感知器预测结果为-1，1\n",
    "# 更好地与感知器预测的结果相符\n",
    "data[\"Species\"] = data[\"Species\"].map({\n",
    "    \"versicolor\": 0,\n",
    "    \"virginica\": 1,\n",
    "    \"setosa\": -1\n",
    "})\n",
    "# data[\"Species\"].value_counts()\n",
    "data = data[data[\"Species\"] != 0]\n",
    "len(data)"
   ]
  },
  {
   "cell_type": "code",
   "execution_count": 16,
   "id": "64fac078",
   "metadata": {},
   "outputs": [],
   "source": [
    "class Perceptron:\n",
    "    \"\"\"感知器算法实现二分类\"\"\"\n",
    "\n",
    "    def __init__(self, alpha, times):\n",
    "        \"\"\"初始化方法\n",
    "        Paeameters:\n",
    "        ------------\n",
    "        alpha : float  学习率\n",
    "        times : int    最大迭代次数\n",
    "        \"\"\"\n",
    "        self.alpha = alpha\n",
    "        self.times = times\n",
    "\n",
    "    def step(self, z):\n",
    "        \"\"\"阶跃函数 \n",
    "        Parameters:\n",
    "        -------------- \n",
    "        z : 数组类型（或者是标量类型）\n",
    "            阶跃函数的参数，根据z的值，返回-1，1，实现二分类\n",
    "            \n",
    "        Returns:\n",
    "        -------- \n",
    "        value : int\n",
    "                如果z>=0,返回1， 否则返回-1 \n",
    "        \"\"\"\n",
    "\n",
    "        #         return 1 if z >= 0 else 0  （对标量类型）\n",
    "        return np.where(z >= 0, 1, -1)\n",
    "\n",
    "    def fit(self, X, y):\n",
    "        \"\"\"根据训练数据对模型进行训练\n",
    "        Parameters：\n",
    "        ------------- \n",
    "        X: 类数组类型 形状：{样本数量，特征数量}\n",
    "           待训练的样本数据\n",
    "           \n",
    "        y: 类数组类型 形状：[样本数量]\n",
    "            每个样本的目标值 （分类）\n",
    "        \"\"\"\n",
    "        X = np.asarray(X)\n",
    "        y = np.asarray(y)\n",
    "        # 创建权重的向量，初始值为0，长度比特征多1（多出的一个就是截距）\n",
    "        self.w_ = np.zeros(1 + X.shape[1])\n",
    "        # 创建损失列表，用来保存每次迭代后的损失值\n",
    "        self.loss_ = []\n",
    "        # 循环指定的次数\n",
    "        for i in range(self.times):\n",
    "            # 感知器与逻辑回归的区别：\n",
    "            # 逻辑回归中，使用所有的样本计算梯度，然后更新权重\n",
    "            # 而感知器中，是使用单个样本依次计算梯度，更新权重\n",
    "            loss = 0\n",
    "            for x, target in zip(X, y):\n",
    "                # 计算预测值\n",
    "                y_hat = self.step(np.dot(x, self.w_[1:] + self.w_[0]))\n",
    "                loss += y_hat != target\n",
    "                # 更新权重\n",
    "                # 更新公式： w(j) = w(j) + 学习率 * （真实值 - 预测值）* x(j)\n",
    "                self.w_[0] += self.alpha * (target - y_hat)\n",
    "                self.w_[1:] += self.alpha * (target - y_hat) * x\n",
    "            # 将循环中累计的误差值增加到误差列表中\n",
    "            self.loss_.append(loss)\n",
    "\n",
    "    def predict(self, X):\n",
    "        \"\"\"根据参数传递的样本对样本数据进行预测 （1 或 -1）\n",
    "        Parameters:\n",
    "        -------------- \n",
    "        X: 类数组类型 形状：{样本数量，特征数量}\n",
    "        \n",
    "        Returns:\n",
    "        ----------- \n",
    "        result: 数组类型 预测的结果值（分类值1或-1）\n",
    "        \"\"\"\n",
    "        return self.step(np.dot(X, self.w_[1:]) + self.w_[0])"
   ]
  },
  {
   "cell_type": "code",
   "execution_count": 19,
   "id": "6a4948a4",
   "metadata": {},
   "outputs": [
    {
     "data": {
      "text/plain": [
       "array([ 1,  1,  1,  1,  1,  1,  1,  1,  1, -1, -1, -1, -1, -1, -1, -1, -1,\n",
       "       -1, -1])"
      ]
     },
     "metadata": {},
     "output_type": "display_data"
    },
    {
     "data": {
      "text/plain": [
       "array([ 1,  1,  1,  1,  1,  1,  1,  1,  1, -1, -1, -1, -1, -1, -1, -1, -1,\n",
       "       -1, -1], dtype=int64)"
      ]
     },
     "metadata": {},
     "output_type": "display_data"
    },
    {
     "data": {
      "text/plain": [
       "array([-0.2 , -0.24, -0.84,  1.48,  0.52])"
      ]
     },
     "metadata": {},
     "output_type": "display_data"
    },
    {
     "data": {
      "text/plain": [
       "[1, 2, 2, 0, 0, 0, 0, 0, 0, 0]"
      ]
     },
     "metadata": {},
     "output_type": "display_data"
    }
   ],
   "source": [
    "# 测试\n",
    "t1 = data[data[\"Species\"] == 1]\n",
    "t2 = data[data[\"Species\"] == -1]\n",
    "t1 = t1.sample(len(t1), random_state=0)\n",
    "t2 = t2.sample(len(t2), random_state=0)\n",
    "train_X = pd.concat([t1.iloc[:40, :-1], t2.iloc[:40, :-1]], axis=0)\n",
    "train_y = pd.concat([t1.iloc[:40, -1], t2.iloc[:40, -1]], axis=0)\n",
    "test_X = pd.concat([t1.iloc[40:, :-1], t2.iloc[40:, :-1]], axis=0)\n",
    "test_y = pd.concat([t1.iloc[40:, -1], t2.iloc[40:, -1]], axis=0)\n",
    "p = Perceptron(0.1, 10)\n",
    "p.fit(train_X, train_y)\n",
    "result = p.predict(test_X)\n",
    "display(result)\n",
    "display(test_y.values)\n",
    "display(p.w_)\n",
    "display(p.loss_)"
   ]
  },
  {
   "cell_type": "code",
   "execution_count": 24,
   "id": "0944adbb",
   "metadata": {
    "scrolled": true
   },
   "outputs": [
    {
     "data": {
      "image/png": "[encoded data removed]",
      "text/plain": [
       "<Figure size 432x288 with 1 Axes>"
      ]
     },
     "metadata": {
      "needs_background": "light"
     },
     "output_type": "display_data"
    }
   ],
   "source": [
    "# 绘制真实值\n",
    "plt.plot(test_y.values, \"go\", ms=15, label=\"真实值\")\n",
    "# 绘制预测值\n",
    "plt.plot(result, \"rx\", ms=15, label=\"预测值\")\n",
    "plt.title(\"感知器二分类\")\n",
    "plt.xlabel(\"样本序号\")\n",
    "plt.ylabel(\"类别\")\n",
    "plt.legend()\n",
    "plt.show()"
   ]
  },
  {
   "cell_type": "code",
   "execution_count": 26,
   "id": "7c8f0660",
   "metadata": {},
   "outputs": [
    {
     "data": {
      "text/plain": [
       "[<matplotlib.lines.Line2D at 0x1c2568b1bb0>]"
      ]
     },
     "execution_count": 26,
     "metadata": {},
     "output_type": "execute_result"
    },
    {
     "data": {
      "image/png": "[encoded data removed]",
      "text/plain": [
       "<Figure size 432x288 with 1 Axes>"
      ]
     },
     "metadata": {
      "needs_background": "light"
     },
     "output_type": "display_data"
    }
   ],
   "source": [
    "# 绘制目标函数的损失值\n",
    "plt.plot(range(1, p.times + 1), p.loss_, \"o-\")"
   ]
  }
 ],
 "metadata": {
  "kernelspec": {
   "display_name": "Python 3 (ipykernel)",
   "language": "python",
   "name": "python3"
  },
  "language_info": {
   "codemirror_mode": {
    "name": "ipython",
    "version": 3
   },
   "file_extension": ".py",
   "mimetype": "text/x-python",
   "name": "python",
   "nbconvert_exporter": "python",
   "pygments_lexer": "ipython3",
   "version": "3.8.12"
  },
  "toc": {
   "base_numbering": 1,
   "nav_menu": {},
   "number_sections": true,
   "sideBar": true,
   "skip_h1_title": false,
   "title_cell": "Table of Contents",
   "title_sidebar": "Contents",
   "toc_cell": false,
   "toc_position": {},
   "toc_section_display": true,
   "toc_window_display": false
  }
 },
 "nbformat": 4,
 "nbformat_minor": 5
}
