{
 "cells": [
  {
   "cell_type": "code",
   "execution_count": 15,
   "id": "ffff54dd",
   "metadata": {},
   "outputs": [],
   "source": [
    "## Xgboost算法辛烷损失值进行预测\n",
    "import pandas as pd\n",
    "import numpy as np\n",
    "import matplotlib.pyplot as plt\n",
    "import openpyxl\n",
    "from sklearn import datasets\n",
    "from sklearn.model_selection import KFold, train_test_split, GridSearchCV\n",
    "from sklearn.metrics import mean_squared_error, roc_auc_score\n",
    "import time\n",
    "import numpy as np\n",
    "import xgboost as xgb\n",
    "from xgboost import plot_importance,plot_tree\n",
    "from sklearn.metrics import accuracy_score\n",
    "import os\n",
    "plt.rcParams[\"font.sans-serif\"] = \"SimHei\"  ## 设置中文显示\n",
    "plt.rcParams['axes.unicode_minus']=False    # 默认是使用Unicode负号，设置正常显示字符，如正常显示负号\n",
    "%matplotlib inline"
   ]
  },
  {
   "cell_type": "code",
   "execution_count": 3,
   "id": "814adbf5",
   "metadata": {},
   "outputs": [],
   "source": [
    "# 加载用于回归问题的数据集\n",
    "data = pd.read_excel('D:\\桌面\\数据挖掘-汽油辛烷值损失模型优化\\暑期模拟-3-2022-08-18\\模拟练习-3 B题 汽油辛烷值建模\\降维后特征.xlsx')"
   ]
  },
  {
   "cell_type": "code",
   "execution_count": 8,
   "id": "cce6936b",
   "metadata": {},
   "outputs": [],
   "source": [
    "# 划分为数据集和测试集\n",
    "X = np.array(data.iloc[:,0:15])\n",
    "y = np.array(data.iloc[:,16])\n",
    "\n",
    "X_train,X_test,y_train,y_test = train_test_split(X,y,test_size=0.2,random_state=8)\n",
    "\n",
    "xgb_train = xgb.DMatrix(X_train,label=y_train)\n",
    "xgb_test = xgb.DMatrix(X_test,label=y_test)\n"
   ]
  },
  {
   "cell_type": "code",
   "execution_count": 11,
   "id": "a50a06f1",
   "metadata": {},
   "outputs": [
    {
     "name": "stdout",
     "output_type": "stream",
     "text": [
      "回归,RON Lost:\n",
      "kfold-0 MSE为: 0.005069\n",
      "kfold-1 MSE为: 0.005599\n",
      "kfold-2 MSE为: 0.008811\n",
      "kfold-3 MSE为: 0.006455\n",
      "kfold-4 MSE为: 0.006444\n",
      "kfold-5 MSE为: 0.006229\n",
      "kfold-6 MSE为: 0.010887\n",
      "kfold-7 MSE为: 0.012035\n",
      "kfold-8 MSE为: 0.008358\n",
      "kfold-9 MSE为: 0.006456\n",
      "kfold-10 MSE为: 0.019967\n",
      "kfold-11 MSE为: 0.001828\n",
      "kfold-12 MSE为: 0.001685\n",
      "kfold-13 MSE为: 0.010969\n",
      "kfold-14 MSE为: 0.015573\n",
      "kfold-15 MSE为: 0.004742\n",
      "kfold-16 MSE为: 0.033882\n",
      "kfold-17 MSE为: 0.010420\n",
      "kfold-18 MSE为: 0.005587\n",
      "kfold-19 MSE为: 0.004936\n",
      "kfold-20 MSE为: 0.010738\n",
      "kfold-21 MSE为: 0.007654\n",
      "kfold-22 MSE为: 0.002741\n",
      "kfold-23 MSE为: 0.011437\n",
      "kfold-24 MSE为: 0.010457\n",
      "kfold-25 MSE为: 0.399395\n",
      "kfold-26 MSE为: 0.014496\n",
      "kfold-27 MSE为: 0.009199\n",
      "kfold-28 MSE为: 0.036273\n",
      "kfold-29 MSE为: 0.031154\n",
      "kfold-30 MSE为: 0.014643\n",
      "kfold-31 MSE为: 0.009266\n",
      "kfold-32 MSE为: 0.010429\n",
      "kfold-33 MSE为: 0.052434\n",
      "kfold-34 MSE为: 0.006182\n",
      "kfold-35 MSE为: 0.004674\n",
      "kfold-36 MSE为: 0.011302\n",
      "kfold-37 MSE为: 0.019279\n",
      "kfold-38 MSE为: 0.008722\n",
      "kfold-39 MSE为: 0.016304\n",
      "kfold-40 MSE为: 0.007610\n",
      "kfold-41 MSE为: 0.020584\n",
      "kfold-42 MSE为: 0.025712\n",
      "kfold-43 MSE为: 0.007765\n",
      "kfold-44 MSE为: 0.022047\n",
      "kfold-45 MSE为: 0.006777\n",
      "kfold-46 MSE为: 0.004934\n",
      "kfold-47 MSE为: 0.006488\n",
      "kfold-48 MSE为: 0.006062\n",
      "kfold-49 MSE为: 0.006392\n"
     ]
    }
   ],
   "source": [
    "# 模型建立与预测\n",
    "print(\"回归,RON Lost:\")\n",
    "X = np.array(data.iloc[:,0:15])\n",
    "y = np.array(data.iloc[:,16])\n",
    "kf = KFold(n_splits=50, shuffle=True)\n",
    "for i,(train_idx,test_idx) in enumerate(kf.split(X)):\n",
    "    model = xgb.XGBRegressor().fit(X[train_idx],y[train_idx])\n",
    "    preds = model.predict(X[test_idx])\n",
    "    labels = y[test_idx]\n",
    "    print(\"kfold-%d MSE为: %f\"%(i,mean_squared_error(labels,preds)))"
   ]
  },
  {
   "cell_type": "code",
   "execution_count": 16,
   "id": "aed61016",
   "metadata": {
    "scrolled": true
   },
   "outputs": [
    {
     "data": {
      "text/html": [
       "<div>\n",
       "<style scoped>\n",
       "    .dataframe tbody tr th:only-of-type {\n",
       "        vertical-align: middle;\n",
       "    }\n",
       "\n",
       "    .dataframe tbody tr th {\n",
       "        vertical-align: top;\n",
       "    }\n",
       "\n",
       "    .dataframe thead th {\n",
       "        text-align: right;\n",
       "    }\n",
       "</style>\n",
       "<table border=\"1\" class=\"dataframe\">\n",
       "  <thead>\n",
       "    <tr style=\"text-align: right;\">\n",
       "      <th></th>\n",
       "      <th>真实值</th>\n",
       "      <th>预测值</th>\n",
       "    </tr>\n",
       "  </thead>\n",
       "  <tbody>\n",
       "    <tr>\n",
       "      <th>0</th>\n",
       "      <td>88.942291</td>\n",
       "      <td>89.0</td>\n",
       "    </tr>\n",
       "    <tr>\n",
       "      <th>1</th>\n",
       "      <td>89.651817</td>\n",
       "      <td>89.6</td>\n",
       "    </tr>\n",
       "    <tr>\n",
       "      <th>2</th>\n",
       "      <td>90.325157</td>\n",
       "      <td>90.3</td>\n",
       "    </tr>\n",
       "    <tr>\n",
       "      <th>3</th>\n",
       "      <td>90.650688</td>\n",
       "      <td>90.6</td>\n",
       "    </tr>\n",
       "    <tr>\n",
       "      <th>4</th>\n",
       "      <td>90.266327</td>\n",
       "      <td>90.1</td>\n",
       "    </tr>\n",
       "  </tbody>\n",
       "</table>\n",
       "</div>"
      ],
      "text/plain": [
       "         真实值   预测值\n",
       "0  88.942291  89.0\n",
       "1  89.651817  89.6\n",
       "2  90.325157  90.3\n",
       "3  90.650688  90.6\n",
       "4  90.266327  90.1"
      ]
     },
     "metadata": {},
     "output_type": "display_data"
    },
    {
     "data": {
      "text/plain": [
       "<AxesSubplot:>"
      ]
     },
     "execution_count": 16,
     "metadata": {},
     "output_type": "execute_result"
    },
    {
     "data": {
      "image/png": "[encoded data removed]",
      "text/plain": [
       "<Figure size 432x288 with 1 Axes>"
      ]
     },
     "metadata": {
      "needs_background": "light"
     },
     "output_type": "display_data"
    }
   ],
   "source": [
    "# 可视化Xgboost算法预测效果\n",
    "df = pd.DataFrame([preds,labels]).T\n",
    "df.columns = ['真实值','预测值']\n",
    "display(df.head())\n",
    "# 采用pandas内置画图工具快速可视化\n",
    "df.plot(kind='bar',legend=1,cmap='Accent_r')"
   ]
  },
  {
   "cell_type": "code",
   "execution_count": null,
   "id": "d67a6714",
   "metadata": {},
   "outputs": [],
   "source": [
    "## 模型评估：\n",
    "## 通过所建立的XGBoost模型的loss值与测试集可视化结果我们可以看到：\n",
    "    # 经过50批次运行，MSE低至0.001685，精度较高\n",
    "    # 经过可视化，结果显示预测值均维持在较高精度，甚至基本达到水平"
   ]
  }
 ],
 "metadata": {
  "kernelspec": {
   "display_name": "Python 3 (ipykernel)",
   "language": "python",
   "name": "python3"
  },
  "language_info": {
   "codemirror_mode": {
    "name": "ipython",
    "version": 3
   },
   "file_extension": ".py",
   "mimetype": "text/x-python",
   "name": "python",
   "nbconvert_exporter": "python",
   "pygments_lexer": "ipython3",
   "version": "3.8.12"
  }
 },
 "nbformat": 4,
 "nbformat_minor": 5
}
